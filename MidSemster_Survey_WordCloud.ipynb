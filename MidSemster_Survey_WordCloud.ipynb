{
  "nbformat": 4,
  "nbformat_minor": 0,
  "metadata": {
    "colab": {
      "provenance": [],
      "authorship_tag": "ABX9TyOYDLaqlcmJ1D+AS6uArjru",
      "include_colab_link": true
    },
    "kernelspec": {
      "name": "python3",
      "display_name": "Python 3"
    },
    "language_info": {
      "name": "python"
    }
  },
  "cells": [
    {
      "cell_type": "markdown",
      "metadata": {
        "id": "view-in-github",
        "colab_type": "text"
      },
      "source": [
        "<a href=\"https://colab.research.google.com/github/georgeputhean/Hobby-Projects/blob/main/MidSemster_Survey_WordCloud.ipynb\" target=\"_parent\"><img src=\"https://colab.research.google.com/assets/colab-badge.svg\" alt=\"Open In Colab\"/></a>"
      ]
    },
    {
      "cell_type": "code",
      "execution_count": 1,
      "metadata": {
        "id": "gAUUTzH94Id4"
      },
      "outputs": [],
      "source": [
        "import pandas as pd"
      ]
    },
    {
      "cell_type": "code",
      "source": [
        "semsester=pd.read_csv(\"/Inclass Mid Semester Feedback Survey Survey Student Analysis Report.csv\")"
      ],
      "metadata": {
        "id": "BzQ1kU6q4WSE"
      },
      "execution_count": 3,
      "outputs": []
    },
    {
      "cell_type": "code",
      "source": [
        "semsester['29934185: What in the class so far has helped your learning the most?']"
      ],
      "metadata": {
        "colab": {
          "base_uri": "https://localhost:8080/"
        },
        "id": "VzqEhIWZ4Y-4",
        "outputId": "3c4e8199-6cf1-470a-e7cb-96f08ede3951"
      },
      "execution_count": 5,
      "outputs": [
        {
          "output_type": "execute_result",
          "data": {
            "text/plain": [
              "0                                                  good\n",
              "1     HealthCare strategies & jargons that I havent ...\n",
              "2                      The Case study given every week.\n",
              "3     I have always been interested in learning abou...\n",
              "4     It has helped me gain knowledge about various ...\n",
              "5     Most importantly this class has helped me lear...\n",
              "6     Previously, I had very less knowledge about EM...\n",
              "7     Discussions around the healthcare industry, Ca...\n",
              "8     I think the the discussion post each week have...\n",
              "9     The reading materials has helped my learning t...\n",
              "10     The group presentations really helped to lear...\n",
              "11               Reading and answering the case studies\n",
              "12    About health information systems and how diffe...\n",
              "13    Extensive knowledge about the healthcare indus...\n",
              "14    I like when we get into groups to answer quest...\n",
              "15    I believe the case discussion in class has bee...\n",
              "16    Walked me through basic healthcare knowledge. ...\n",
              "17    I have been helped the most when the Professor...\n",
              "18    \"lightning reviews\"\\n\\nIts helpful to get an o...\n",
              "19    Case Studies showed us many real-world example...\n",
              "20    Reading the textbook and having a follow up di...\n",
              "21    Learnt what kinds of aspects I need to think a...\n",
              "22    The case studies are my favorite resource beca...\n",
              "23    The case studies help me learn the most about ...\n",
              "24    The class group activities has been the most h...\n",
              "25    The case studies and the article critique have...\n",
              "26    About the healthcare knowledge and laws regula...\n",
              "27    Critical thinking activities towards the end o...\n",
              "28    The case studies were really interesting, I le...\n",
              "29    Discussion part. We first provided our thought...\n",
              "30    EMR, Heathcare Informatic Technology, and futu...\n",
              "Name: 29934185: What in the class so far has helped your learning the most?, dtype: object"
            ]
          },
          "metadata": {},
          "execution_count": 5
        }
      ]
    },
    {
      "cell_type": "code",
      "source": [],
      "metadata": {
        "id": "FlXxGqT14f9G"
      },
      "execution_count": null,
      "outputs": []
    }
  ]
}